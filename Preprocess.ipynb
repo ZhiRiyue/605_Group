{
 "cells": [
  {
   "cell_type": "code",
   "execution_count": 3,
   "id": "d9afd2ac",
   "metadata": {
    "ExecuteTime": {
     "end_time": "2024-11-05T02:57:13.727647Z",
     "start_time": "2024-11-05T02:56:37.031794Z"
    }
   },
   "outputs": [],
   "source": [
    "def split_file(file_path, chunk_size):\n",
    "    with open(file_path, 'rb') as f:\n",
    "        chunk = f.read(chunk_size)\n",
    "        part_number = 0\n",
    "        while chunk:\n",
    "            part_file_name = f\"data\\\\{file_path}_part_{part_number}\"\n",
    "            with open(part_file_name, 'wb') as chunk_file:\n",
    "                chunk_file.write(chunk)\n",
    "            part_number += 1\n",
    "            chunk = f.read(chunk_size)\n",
    "\n",
    "file_path = \"archive.zip\"  \n",
    "chunk_size = 100 * 1024 * 1024\n",
    "split_file(file_path, chunk_size)\n"
   ]
  },
  {
   "cell_type": "code",
   "execution_count": null,
   "id": "fb775a08",
   "metadata": {},
   "outputs": [],
   "source": []
  }
 ],
 "metadata": {
  "kernelspec": {
   "display_name": "python311gpu",
   "language": "python",
   "name": "python311gpu"
  },
  "language_info": {
   "codemirror_mode": {
    "name": "ipython",
    "version": 3
   },
   "file_extension": ".py",
   "mimetype": "text/x-python",
   "name": "python",
   "nbconvert_exporter": "python",
   "pygments_lexer": "ipython3",
   "version": "3.11.8"
  },
  "nbTranslate": {
   "displayLangs": [
    "*"
   ],
   "hotkey": "alt-t",
   "langInMainMenu": true,
   "sourceLang": "en",
   "targetLang": "fr",
   "useGoogleTranslate": true
  },
  "toc": {
   "base_numbering": 1,
   "nav_menu": {},
   "number_sections": true,
   "sideBar": true,
   "skip_h1_title": false,
   "title_cell": "Table of Contents",
   "title_sidebar": "Contents",
   "toc_cell": false,
   "toc_position": {},
   "toc_section_display": true,
   "toc_window_display": false
  }
 },
 "nbformat": 4,
 "nbformat_minor": 5
}
