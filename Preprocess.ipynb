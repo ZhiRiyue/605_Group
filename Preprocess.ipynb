{
 "cells": [
  {
   "cell_type": "markdown",
   "id": "d63a98de",
   "metadata": {},
   "source": [
    "## data split"
   ]
  },
  {
   "cell_type": "code",
   "execution_count": 4,
   "id": "2e6126a1",
   "metadata": {
    "ExecuteTime": {
     "end_time": "2024-11-05T04:02:47.932207Z",
     "start_time": "2024-11-05T04:02:47.906788Z"
    }
   },
   "outputs": [],
   "source": [
    "def split_file(file_path, chunk_size):\n",
    "    with open(file_path, 'rb') as f:\n",
    "        chunk = f.read(chunk_size)\n",
    "        part_number = 0\n",
    "        while chunk:\n",
    "            part_file_name = f\"data\\\\{file_path}_part_{part_number}\"\n",
    "            with open(part_file_name, 'wb') as chunk_file:\n",
    "                chunk_file.write(chunk)\n",
    "            part_number += 1\n",
    "            chunk = f.read(chunk_size)\n",
    "\n",
    "file_path = \"archive.zip\"  \n",
    "chunk_size = 100 * 1024 * 1024\n",
    "#split_file(file_path, chunk_size)"
   ]
  },
  {
   "cell_type": "markdown",
   "id": "73a1347f",
   "metadata": {},
   "source": [
    "## data combinnation"
   ]
  },
  {
   "cell_type": "code",
   "execution_count": 5,
   "id": "4bd47207",
   "metadata": {
    "ExecuteTime": {
     "end_time": "2024-11-05T04:15:32.679824Z",
     "start_time": "2024-11-05T04:15:30.438011Z"
    }
   },
   "outputs": [
    {
     "name": "stdout",
     "output_type": "stream",
     "text": [
      "Do you need to combine file? y/nn\n",
      "Do nothing\n"
     ]
    }
   ],
   "source": [
    "import os\n",
    "\n",
    "def merge_files(output_file_path, part_prefix):\n",
    "    part_number = 0\n",
    "    with open(output_file_path, 'wb') as output_file:\n",
    "        while True:\n",
    "            part_file_name = f\"{part_prefix}_part_{part_number}\"\n",
    "            if not os.path.exists(part_file_name):\n",
    "                break  # 如果没有找到文件，结束循环\n",
    "            with open(part_file_name, 'rb') as part_file:\n",
    "                output_file.write(part_file.read())\n",
    "            part_number += 1\n",
    "\n",
    "output_file_path = \"archive.zip\"  \n",
    "part_prefix = \"data\\\\archive.zip\"\n",
    "user_input = input(\"Do you need to combine file? y/n\").strip().lower()\n",
    "if user_input == 'y':\n",
    "    merge_files(output_file_path, part_prefix)\n",
    "elif user_input == 'n':\n",
    "    print('Do nothing')\n",
    "else:\n",
    "    print('Wrong selection')"
   ]
  },
  {
   "cell_type": "code",
   "execution_count": null,
   "id": "d94b0fb3",
   "metadata": {},
   "outputs": [],
   "source": []
  }
 ],
 "metadata": {
  "kernelspec": {
   "display_name": "python311gpu",
   "language": "python",
   "name": "python311gpu"
  },
  "language_info": {
   "codemirror_mode": {
    "name": "ipython",
    "version": 3
   },
   "file_extension": ".py",
   "mimetype": "text/x-python",
   "name": "python",
   "nbconvert_exporter": "python",
   "pygments_lexer": "ipython3",
   "version": "3.11.8"
  },
  "nbTranslate": {
   "displayLangs": [
    "*"
   ],
   "hotkey": "alt-t",
   "langInMainMenu": true,
   "sourceLang": "en",
   "targetLang": "fr",
   "useGoogleTranslate": true
  },
  "toc": {
   "base_numbering": 1,
   "nav_menu": {},
   "number_sections": true,
   "sideBar": true,
   "skip_h1_title": false,
   "title_cell": "Table of Contents",
   "title_sidebar": "Contents",
   "toc_cell": false,
   "toc_position": {},
   "toc_section_display": true,
   "toc_window_display": false
  }
 },
 "nbformat": 4,
 "nbformat_minor": 5
}
